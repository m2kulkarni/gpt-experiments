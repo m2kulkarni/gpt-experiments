{
 "cells": [
  {
   "cell_type": "code",
   "execution_count": 3,
   "metadata": {},
   "outputs": [],
   "source": [
    "import numpy as np\n",
    "import torch\n",
    "import torch.nn as nn"
   ]
  },
  {
   "cell_type": "code",
   "execution_count": 4,
   "metadata": {},
   "outputs": [],
   "source": [
    "with open('input.txt', 'r', encoding='UTF-8') as f:\n",
    "    text = f.read()"
   ]
  },
  {
   "cell_type": "code",
   "execution_count": 5,
   "metadata": {},
   "outputs": [
    {
     "name": "stdout",
     "output_type": "stream",
     "text": [
      "\n",
      " !$&',-.3:;?ABCDEFGHIJKLMNOPQRSTUVWXYZabcdefghijklmnopqrstuvwxyz\n",
      "65\n"
     ]
    }
   ],
   "source": [
    "chars = sorted(set(text))\n",
    "print(''.join(chars))\n",
    "print(len(chars))"
   ]
  },
  {
   "cell_type": "code",
   "execution_count": 6,
   "metadata": {},
   "outputs": [],
   "source": [
    "stoi = {char:i for i,char in enumerate(chars)}\n",
    "itos = {i:char for i,char in enumerate(chars)}\n",
    "\n",
    "encode = lambda s: [stoi[c] for c in s]\n",
    "decode = lambda x: ''.join([itos[i] for i in x])\n"
   ]
  },
  {
   "cell_type": "code",
   "execution_count": 7,
   "metadata": {},
   "outputs": [],
   "source": [
    "data = torch.tensor(encode(text), dtype=torch.long)\n",
    "n = int(0.9*len(data))\n",
    "train_data = data[:n]\n",
    "val_data = data[n:]"
   ]
  },
  {
   "cell_type": "code",
   "execution_count": 17,
   "metadata": {},
   "outputs": [
    {
     "name": "stdout",
     "output_type": "stream",
     "text": [
      "Context: [18], Target: 47\n",
      "Context: [18, 47], Target: 56\n",
      "Context: [18, 47, 56], Target: 57\n",
      "Context: [18, 47, 56, 57], Target: 58\n",
      "Context: [18, 47, 56, 57, 58], Target: 1\n",
      "Context: [18, 47, 56, 57, 58, 1], Target: 15\n",
      "Context: [18, 47, 56, 57, 58, 1, 15], Target: 47\n"
     ]
    }
   ],
   "source": []
  },
  {
   "cell_type": "code",
   "execution_count": 38,
   "metadata": {},
   "outputs": [],
   "source": [
    "batch_size = 4\n",
    "block_size = 8\n",
    "\n",
    "def get_batch(split):\n",
    "    data = train_data if split=='train' else val_data\n",
    "    idx = torch.randint(0, len(data)-block_size, (batch_size, ))\n",
    "\n",
    "    X = torch.stack([data[i:i+block_size] for i in idx])\n",
    "    Y = torch.stack([data[i+1:i+1+block_size] for i in idx])\n",
    "\n",
    "    return X, Y\n",
    "\n",
    "def p_ctx_tgt(X, Y):\n",
    "\n",
    "    for b in range(X.shape[0]):\n",
    "        for t in range(X.shape[1]):\n",
    "            context = X[b, :t+1]\n",
    "            target = Y[b,t]\n",
    "            print(f\"Context: {context.tolist()}, Target: {target}\")\n"
   ]
  },
  {
   "cell_type": "code",
   "execution_count": 41,
   "metadata": {},
   "outputs": [
    {
     "name": "stdout",
     "output_type": "stream",
     "text": [
      "Context: [42], Target: 50\n",
      "Context: [42, 50], Target: 63\n",
      "Context: [42, 50, 63], Target: 1\n",
      "Context: [42, 50, 63, 1], Target: 57\n",
      "Context: [42, 50, 63, 1, 57], Target: 59\n",
      "Context: [42, 50, 63, 1, 57, 59], Target: 47\n",
      "Context: [42, 50, 63, 1, 57, 59, 47], Target: 58\n",
      "Context: [42, 50, 63, 1, 57, 59, 47, 58], Target: 1\n",
      "Context: [0], Target: 5\n",
      "Context: [0, 5], Target: 28\n",
      "Context: [0, 5, 28], Target: 56\n",
      "Context: [0, 5, 28, 56], Target: 53\n",
      "Context: [0, 5, 28, 56, 53], Target: 59\n",
      "Context: [0, 5, 28, 56, 53, 59], Target: 42\n",
      "Context: [0, 5, 28, 56, 53, 59, 42], Target: 6\n",
      "Context: [0, 5, 28, 56, 53, 59, 42, 6], Target: 5\n",
      "Context: [39], Target: 50\n",
      "Context: [39, 50], Target: 50\n",
      "Context: [39, 50, 50], Target: 1\n",
      "Context: [39, 50, 50, 1], Target: 40\n",
      "Context: [39, 50, 50, 1, 40], Target: 43\n",
      "Context: [39, 50, 50, 1, 40, 43], Target: 1\n",
      "Context: [39, 50, 50, 1, 40, 43, 1], Target: 40\n",
      "Context: [39, 50, 50, 1, 40, 43, 1, 40], Target: 50\n",
      "Context: [1], Target: 54\n",
      "Context: [1, 54], Target: 56\n",
      "Context: [1, 54, 56], Target: 47\n",
      "Context: [1, 54, 56, 47], Target: 57\n",
      "Context: [1, 54, 56, 47, 57], Target: 53\n",
      "Context: [1, 54, 56, 47, 57, 53], Target: 52\n",
      "Context: [1, 54, 56, 47, 57, 53, 52], Target: 1\n",
      "Context: [1, 54, 56, 47, 57, 53, 52, 1], Target: 61\n"
     ]
    }
   ],
   "source": [
    "X, Y = get_batch('train')\n",
    "p_ctx_tgt(X,Y)"
   ]
  },
  {
   "cell_type": "code",
   "execution_count": 36,
   "metadata": {},
   "outputs": [
    {
     "data": {
      "text/plain": [
       "torch.Size([4, 8])"
      ]
     },
     "execution_count": 36,
     "metadata": {},
     "output_type": "execute_result"
    }
   ],
   "source": []
  },
  {
   "cell_type": "code",
   "execution_count": null,
   "metadata": {},
   "outputs": [],
   "source": []
  }
 ],
 "metadata": {
  "kernelspec": {
   "display_name": "ffs",
   "language": "python",
   "name": "python3"
  },
  "language_info": {
   "codemirror_mode": {
    "name": "ipython",
    "version": 3
   },
   "file_extension": ".py",
   "mimetype": "text/x-python",
   "name": "python",
   "nbconvert_exporter": "python",
   "pygments_lexer": "ipython3",
   "version": "3.8.18"
  }
 },
 "nbformat": 4,
 "nbformat_minor": 2
}
