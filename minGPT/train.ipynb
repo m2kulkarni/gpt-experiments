{
 "cells": [
  {
   "cell_type": "code",
   "execution_count": 1,
   "metadata": {},
   "outputs": [],
   "source": [
    "import numpy as np\n",
    "import torch\n",
    "import torch.nn as nn"
   ]
  },
  {
   "cell_type": "code",
   "execution_count": 2,
   "metadata": {},
   "outputs": [],
   "source": [
    "with open('input.txt', 'r', encoding='UTF-8') as f:\n",
    "    text = f.read()"
   ]
  },
  {
   "cell_type": "code",
   "execution_count": 12,
   "metadata": {},
   "outputs": [
    {
     "name": "stdout",
     "output_type": "stream",
     "text": [
      "\n",
      " !$&',-.3:;?ABCDEFGHIJKLMNOPQRSTUVWXYZabcdefghijklmnopqrstuvwxyz\n",
      "65\n"
     ]
    }
   ],
   "source": [
    "chars = sorted(set(text))\n",
    "print(''.join(chars))\n",
    "print(len(chars))\n",
    "vocab_size = len(chars)"
   ]
  },
  {
   "cell_type": "code",
   "execution_count": 4,
   "metadata": {},
   "outputs": [],
   "source": [
    "stoi = {char:i for i,char in enumerate(chars)}\n",
    "itos = {i:char for i,char in enumerate(chars)}\n",
    "\n",
    "encode = lambda s: [stoi[c] for c in s]\n",
    "decode = lambda x: ''.join([itos[i] for i in x])\n"
   ]
  },
  {
   "cell_type": "code",
   "execution_count": 5,
   "metadata": {},
   "outputs": [],
   "source": [
    "data = torch.tensor(encode(text), dtype=torch.long)\n",
    "n = int(0.9*len(data))\n",
    "train_data = data[:n]\n",
    "val_data = data[n:]"
   ]
  },
  {
   "cell_type": "code",
   "execution_count": 6,
   "metadata": {},
   "outputs": [],
   "source": [
    "batch_size = 4\n",
    "block_size = 8\n",
    "\n",
    "def get_batch(split):\n",
    "    data = train_data if split=='train' else val_data\n",
    "    idx = torch.randint(0, len(data)-block_size, (batch_size, ))\n",
    "\n",
    "    X = torch.stack([data[i:i+block_size] for i in idx])\n",
    "    Y = torch.stack([data[i+1:i+1+block_size] for i in idx])\n",
    "\n",
    "    return X, Y\n",
    "\n",
    "def p_ctx_tgt(X, Y):\n",
    "\n",
    "    for b in range(X.shape[0]):\n",
    "        for t in range(X.shape[1]):\n",
    "            context = X[b, :t+1]\n",
    "            target = Y[b,t]\n",
    "            print(f\"Context: {context.tolist()}, Target: {target}\")\n"
   ]
  },
  {
   "cell_type": "code",
   "execution_count": 7,
   "metadata": {},
   "outputs": [
    {
     "name": "stdout",
     "output_type": "stream",
     "text": [
      "Context: [50], Target: 57\n",
      "Context: [50, 57], Target: 1\n",
      "Context: [50, 57, 1], Target: 61\n",
      "Context: [50, 57, 1, 61], Target: 43\n",
      "Context: [50, 57, 1, 61, 43], Target: 56\n",
      "Context: [50, 57, 1, 61, 43, 56], Target: 43\n",
      "Context: [50, 57, 1, 61, 43, 56, 43], Target: 1\n",
      "Context: [50, 57, 1, 61, 43, 56, 43, 1], Target: 39\n",
      "Context: [39], Target: 60\n",
      "Context: [39, 60], Target: 43\n",
      "Context: [39, 60, 43], Target: 1\n",
      "Context: [39, 60, 43, 1], Target: 57\n",
      "Context: [39, 60, 43, 1, 57], Target: 58\n",
      "Context: [39, 60, 43, 1, 57, 58], Target: 39\n",
      "Context: [39, 60, 43, 1, 57, 58, 39], Target: 63\n",
      "Context: [39, 60, 43, 1, 57, 58, 39, 63], Target: 5\n",
      "Context: [43], Target: 43\n",
      "Context: [43, 43], Target: 49\n",
      "Context: [43, 43, 49], Target: 11\n",
      "Context: [43, 43, 49, 11], Target: 0\n",
      "Context: [43, 43, 49, 11, 0], Target: 21\n",
      "Context: [43, 43, 49, 11, 0, 21], Target: 1\n",
      "Context: [43, 43, 49, 11, 0, 21, 1], Target: 61\n",
      "Context: [43, 43, 49, 11, 0, 21, 1, 61], Target: 47\n",
      "Context: [1], Target: 50\n",
      "Context: [1, 50], Target: 53\n",
      "Context: [1, 50, 53], Target: 52\n",
      "Context: [1, 50, 53, 52], Target: 45\n",
      "Context: [1, 50, 53, 52, 45], Target: 1\n",
      "Context: [1, 50, 53, 52, 45, 1], Target: 39\n",
      "Context: [1, 50, 53, 52, 45, 1, 39], Target: 1\n",
      "Context: [1, 50, 53, 52, 45, 1, 39, 1], Target: 57\n"
     ]
    }
   ],
   "source": [
    "X, Y = get_batch('train')\n",
    "p_ctx_tgt(X,Y)"
   ]
  },
  {
   "cell_type": "code",
   "execution_count": 35,
   "metadata": {},
   "outputs": [],
   "source": [
    "import torch\n",
    "import torch.nn\n",
    "from torch.nn import functional as F\n",
    "\n",
    "\n",
    "class BigramLanguageModel(nn.Module):\n",
    "    \n",
    "    def __init__(self, vocab_size):\n",
    "        super().__init__()\n",
    "\n",
    "        self.token_embedding_table = nn.Embedding(vocab_size, vocab_size)\n",
    "\n",
    "    def forward(self, idx, target):\n",
    "        \n",
    "        logits = self.token_embedding_table(idx)\n",
    "        B,T,C = logits.shape\n",
    "        logits = logits.view(B*T, C)\n",
    "        target = target.view(B*T)\n",
    "\n",
    "        print(logits.shape, target.shape)\n",
    "        loss = F.cross_entropy(logits, target)\n",
    "\n",
    "        return logits, loss"
   ]
  },
  {
   "cell_type": "code",
   "execution_count": 36,
   "metadata": {},
   "outputs": [],
   "source": [
    "model = BigramLanguageModel(vocab_size)"
   ]
  },
  {
   "cell_type": "code",
   "execution_count": 37,
   "metadata": {},
   "outputs": [
    {
     "name": "stdout",
     "output_type": "stream",
     "text": [
      "torch.Size([32, 65]) torch.Size([32])\n",
      "tensor(4.6280, grad_fn=<NllLossBackward0>)\n"
     ]
    }
   ],
   "source": [
    "logits, loss = model(X, Y)\n",
    "print(loss)"
   ]
  },
  {
   "cell_type": "code",
   "execution_count": 38,
   "metadata": {},
   "outputs": [
    {
     "ename": "SyntaxError",
     "evalue": "invalid syntax (3140642181.py, line 1)",
     "output_type": "error",
     "traceback": [
      "\u001b[0;36m  Cell \u001b[0;32mIn[38], line 1\u001b[0;36m\u001b[0m\n\u001b[0;31m    (& h g . h (& l m n . m n (& g f x.f(g f x))l ((& x y z f.f x y z) 0 0 0)))\u001b[0m\n\u001b[0m     ^\u001b[0m\n\u001b[0;31mSyntaxError\u001b[0m\u001b[0;31m:\u001b[0m invalid syntax\n"
     ]
    }
   ],
   "source": [
    "(& h g . h (& l m n . m n (& g f x.f(g f x))l ((& x y z f.f x y z) 0 0 0)))\n"
   ]
  },
  {
   "cell_type": "code",
   "execution_count": 39,
   "metadata": {},
   "outputs": [
    {
     "ename": "SyntaxError",
     "evalue": "invalid syntax (4124281431.py, line 1)",
     "output_type": "error",
     "traceback": [
      "\u001b[0;36m  Cell \u001b[0;32mIn[39], line 1\u001b[0;36m\u001b[0m\n\u001b[0;31m    (& l m n . m n l) (&k y. y) (&k y. y) (&k y. y))\u001b[0m\n\u001b[0m     ^\u001b[0m\n\u001b[0;31mSyntaxError\u001b[0m\u001b[0;31m:\u001b[0m invalid syntax\n"
     ]
    }
   ],
   "source": [
    "(& l m n . m n l) (&k y. y) (&k y. y) (&k y. y))\n",
    "\n",
    "This switches the elements"
   ]
  },
  {
   "cell_type": "code",
   "execution_count": null,
   "metadata": {},
   "outputs": [],
   "source": [
    "(& a b c . (& g f x. f(g f x))(a) b c) (&k y. k(y)) (&k y. y) (&k y. y)\n"
   ]
  }
 ],
 "metadata": {
  "kernelspec": {
   "display_name": "ffs",
   "language": "python",
   "name": "python3"
  },
  "language_info": {
   "codemirror_mode": {
    "name": "ipython",
    "version": 3
   },
   "file_extension": ".py",
   "mimetype": "text/x-python",
   "name": "python",
   "nbconvert_exporter": "python",
   "pygments_lexer": "ipython3",
   "version": "3.8.18"
  }
 },
 "nbformat": 4,
 "nbformat_minor": 2
}
